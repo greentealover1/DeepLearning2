{
 "cells": [
  {
   "cell_type": "markdown",
   "id": "9012ced8",
   "metadata": {},
   "source": [
    "# 1.1 수학과 파이썬 복습  "
   ]
  },
  {
   "cell_type": "markdown",
   "id": "c535cba5",
   "metadata": {},
   "source": [
    "## 1.1.1 벡터와 행렬  "
   ]
  },
  {
   "cell_type": "markdown",
   "id": "5cd67d29",
   "metadata": {},
   "source": [
    "벡터: 크기와 방향을 가진 양-1차원 배열  \n",
    "행렬:2차원 형태의 숫자-2차원 배열 (row & column으로 이뤄진)  "
   ]
  },
  {
   "cell_type": "code",
   "execution_count": 1,
   "id": "226d16ec",
   "metadata": {},
   "outputs": [
    {
     "data": {
      "text/plain": [
       "numpy.ndarray"
      ]
     },
     "execution_count": 1,
     "metadata": {},
     "output_type": "execute_result"
    }
   ],
   "source": [
    "import numpy as np\n",
    "x=np.array([1,2,3])\n",
    "x.__class__#클래스 이름 표시  "
   ]
  },
  {
   "cell_type": "code",
   "execution_count": 2,
   "id": "a200a28f",
   "metadata": {},
   "outputs": [
    {
     "data": {
      "text/plain": [
       "(3,)"
      ]
     },
     "execution_count": 2,
     "metadata": {},
     "output_type": "execute_result"
    }
   ],
   "source": [
    "x.shape#3개의 원소 형상"
   ]
  },
  {
   "cell_type": "code",
   "execution_count": 3,
   "id": "4b61b10d",
   "metadata": {},
   "outputs": [
    {
     "data": {
      "text/plain": [
       "1"
      ]
     },
     "execution_count": 3,
     "metadata": {},
     "output_type": "execute_result"
    }
   ],
   "source": [
    "x.ndim#1"
   ]
  },
  {
   "cell_type": "code",
   "execution_count": 4,
   "id": "33ef4ae2",
   "metadata": {},
   "outputs": [
    {
     "data": {
      "text/plain": [
       "(2, 3)"
      ]
     },
     "execution_count": 4,
     "metadata": {},
     "output_type": "execute_result"
    }
   ],
   "source": [
    "W=np.array([[1,2,3],[4,5,6]])\n",
    "W.shape"
   ]
  },
  {
   "cell_type": "code",
   "execution_count": 5,
   "id": "0022591e",
   "metadata": {},
   "outputs": [
    {
     "data": {
      "text/plain": [
       "2"
      ]
     },
     "execution_count": 5,
     "metadata": {},
     "output_type": "execute_result"
    }
   ],
   "source": [
    "W.ndim#2"
   ]
  },
  {
   "cell_type": "markdown",
   "id": "43a1317d",
   "metadata": {},
   "source": [
    "## 1.1.2 행렬의 원소별 연산  "
   ]
  },
  {
   "cell_type": "code",
   "execution_count": 6,
   "id": "c8bd0ab8",
   "metadata": {},
   "outputs": [
    {
     "data": {
      "text/plain": [
       "array([[ 1,  3,  5],\n",
       "       [ 7,  9, 11]])"
      ]
     },
     "execution_count": 6,
     "metadata": {},
     "output_type": "execute_result"
    }
   ],
   "source": [
    "W=np.array([[1,2,3],[4,5,6]])\n",
    "X=np.array([[0,1,2],[3,4,5]])\n",
    "W+X"
   ]
  },
  {
   "cell_type": "code",
   "execution_count": 7,
   "id": "2777dfb1",
   "metadata": {},
   "outputs": [
    {
     "data": {
      "text/plain": [
       "array([[ 0,  2,  6],\n",
       "       [12, 20, 30]])"
      ]
     },
     "execution_count": 7,
     "metadata": {},
     "output_type": "execute_result"
    }
   ],
   "source": [
    "W*X"
   ]
  },
  {
   "cell_type": "markdown",
   "id": "f446d3c4",
   "metadata": {},
   "source": [
    "## 1.1.3 브로드캐스트  \n",
    "브로드캐스트:다차원배열연산에서 형상이 다른 배열끼리 연산을 가능하게 함  "
   ]
  },
  {
   "cell_type": "code",
   "execution_count": 8,
   "id": "f951e8f1",
   "metadata": {},
   "outputs": [
    {
     "data": {
      "text/plain": [
       "array([[10, 20],\n",
       "       [30, 40]])"
      ]
     },
     "execution_count": 8,
     "metadata": {},
     "output_type": "execute_result"
    }
   ],
   "source": [
    "A=np.array([[1,2],[3,4]])\n",
    "A*10#배열의 원소에 스칼라값 곱하기"
   ]
  },
  {
   "cell_type": "code",
   "execution_count": 9,
   "id": "74f1748b",
   "metadata": {},
   "outputs": [
    {
     "data": {
      "text/plain": [
       "array([[10, 40],\n",
       "       [30, 80]])"
      ]
     },
     "execution_count": 9,
     "metadata": {},
     "output_type": "execute_result"
    }
   ],
   "source": [
    "A=np.array([[1,2],[3,4]])\n",
    "b=np.array([10,20])\n",
    "A*b\n",
    "#10*1   20*2\n",
    "#10*3   20*4"
   ]
  },
  {
   "cell_type": "markdown",
   "id": "be82f01c",
   "metadata": {},
   "source": [
    "## 1.1.4 벡터의 내적과 행렬의 곱  \n",
    "벡터의 내적은 직관적으로 '두 벡터가 얼마나 같은 방향을 향하고 있는가'를 나타낸다.  \n",
    "ex)벡터의 길이가 1인 경우로 한정하면 같은 방향을 향하면 내적은 1, 180도 반대 방향이면 -1이다  "
   ]
  },
  {
   "cell_type": "code",
   "execution_count": 10,
   "id": "0409085e",
   "metadata": {},
   "outputs": [
    {
     "data": {
      "text/plain": [
       "32"
      ]
     },
     "execution_count": 10,
     "metadata": {},
     "output_type": "execute_result"
    }
   ],
   "source": [
    "a=np.array([1,2,3])\n",
    "b=np.array([4,5,6])\n",
    "np.dot(a,b)#내적-32"
   ]
  },
  {
   "cell_type": "code",
   "execution_count": 11,
   "id": "a3f27079",
   "metadata": {},
   "outputs": [
    {
     "data": {
      "text/plain": [
       "array([[19, 22],\n",
       "       [43, 50]])"
      ]
     },
     "execution_count": 11,
     "metadata": {},
     "output_type": "execute_result"
    }
   ],
   "source": [
    "A=np.array([[1,2],[3,4]])\n",
    "B=np.array([[5,6],[7,8]])\n",
    "np.matmul(A,B)"
   ]
  },
  {
   "cell_type": "markdown",
   "id": "281499a0",
   "metadata": {},
   "source": [
    "## 1.1.5 행렬 형상 확인  \n",
    "행렬 A,B가 있을때 A의 열의 수,B의 행의 수가 같아야 함  \n",
    "ex)A(3,2)xB(2,4)=C(3,4)"
   ]
  },
  {
   "cell_type": "markdown",
   "id": "f1c7e30d",
   "metadata": {},
   "source": [
    "# 1.2 신경망의 추론  \n",
    "2차원 데이터를 입력하여 3차원 데이터를 출력하는 함수 생성  \n",
    "ex)입력층 뉴런 2개, 출력층 뉴런 3개, 은닉층에도 뉴런 4개를 둔다고 가정  \n",
    "- 가중치와 뉴런의 값을 각각 곱해서 그 합이 다음 뉴런의 입력으로 쓰임  \n",
    "\n",
    "- 각층에서 이전 뉴런의 영향을 안 받는 정수인 편향이 더해짐  \n",
    "완전연결계층:인접하는 층의 모든 뉴런과 연결됨  \n",
    "h1=x1w11+x2w21+b1  \n",
    "- 특징: 은닉층의 뉴런은 가중치의 합으로 계산됨->행렬의 곱으로 한꺼번에 계산 가능  \n",
    "h=xW+b  \n",
    "h:은닉층의 뉴런  \n",
    "x:입력  \n",
    "W:가중치  \n",
    "b:편향  \n",
    "\n",
    "신경망의 추론,학습에서는 다수의 샘플데이터를 하나씩 저장해야한다  "
   ]
  },
  {
   "cell_type": "code",
   "execution_count": 12,
   "id": "36e23d72",
   "metadata": {},
   "outputs": [],
   "source": [
    "W1=np.random.randn(2,4)#가중치\n",
    "b1=np.random.randn(4)#편향  \n",
    "x=np.random.randn(10,2)#입력\n",
    "h=np.matmul(x,W1)+b1"
   ]
  },
  {
   "cell_type": "code",
   "execution_count": 13,
   "id": "e4540bef",
   "metadata": {},
   "outputs": [],
   "source": [
    "def sigmoid(x):#시그모이드 함수\n",
    "    return 1/(1+np.exp(-x))"
   ]
  },
  {
   "cell_type": "code",
   "execution_count": 14,
   "id": "267b7b5c",
   "metadata": {},
   "outputs": [
    {
     "data": {
      "text/plain": [
       "array([[0.29298219, 0.38512666, 0.92170363, 0.21782574],\n",
       "       [0.28006478, 0.80451108, 0.59288028, 0.22825309],\n",
       "       [0.20371377, 0.54267812, 0.87820004, 0.24380027],\n",
       "       [0.07008723, 0.65762538, 0.88227876, 0.31284609],\n",
       "       [0.01192408, 0.26501026, 0.99158053, 0.41967042],\n",
       "       [0.13614876, 0.39067415, 0.94779679, 0.26628689],\n",
       "       [0.08226736, 0.81434013, 0.73143686, 0.30673178],\n",
       "       [0.67218447, 0.68370082, 0.57705908, 0.15612593],\n",
       "       [0.15136841, 0.45120521, 0.928252  , 0.26082032],\n",
       "       [0.37030593, 0.31307548, 0.93446092, 0.20079528]])"
      ]
     },
     "execution_count": 14,
     "metadata": {},
     "output_type": "execute_result"
    }
   ],
   "source": [
    "a=sigmoid(h)#은닉층 뉴런 반환 및 활서오하함수의 출력a를 다른 완전연결계층에 통과시켜 변환\n",
    "a"
   ]
  },
  {
   "cell_type": "code",
   "execution_count": 15,
   "id": "361f9c57",
   "metadata": {},
   "outputs": [],
   "source": [
    "import numpy as np\n",
    "def sigmoid(x):\n",
    "    return 1/(1+np.exp(-x))\n",
    "x=np.random.randn(10,2)\n",
    "W1=np.random.randn(2,4)\n",
    "b1=np.random.randn(4)\n",
    "W2=np.random.randn(4,3)\n",
    "b2=np.random.randn(3)\n",
    "\n",
    "h=np.matmul(x,W1)+b1\n",
    "a=sigmoid(h)\n",
    "s=np.matmul(a,W2)+b2#출력된 3차원 벡터의 각 차원은 각 클래스에 대응하는 점수  "
   ]
  },
  {
   "cell_type": "markdown",
   "id": "a609dc3e",
   "metadata": {},
   "source": [
    "점수:확률적 개념.점수가 높을수록 뉴런에 해당하는 클래스의 확률도 높아진다.  \n",
    "- 점수를 softmax함수에 넣으면 확률을 얻음  "
   ]
  },
  {
   "cell_type": "markdown",
   "id": "4751c6d8",
   "metadata": {},
   "source": [
    "## 1.2.2 계층으로 클래스화 및 순전파 구현  \n"
   ]
  },
  {
   "cell_type": "markdown",
   "id": "e1939446",
   "metadata": {},
   "source": [
    "완전연결계층(Affine)계층,시그모이드 함수에 의한 변환(sigmoid)계층  \n",
    "모든 계층은 forward(),backward()메서드를 가짐  \n",
    "모든 계층은 인스턴스변수 params,grads를 가짐(params-가중치,편향 매개변수를 담는 리스트,grads-기울기 담는 리스트)  "
   ]
  },
  {
   "cell_type": "code",
   "execution_count": 16,
   "id": "83904bd6",
   "metadata": {},
   "outputs": [],
   "source": [
    "#순전파\n",
    "import numpy as np\n",
    "class Sigmoid:#시그모이드 계층\n",
    "    def __init__(self):\n",
    "        self.params=[]\n",
    "    def forward(self,x):\n",
    "        return 1/(1+np.exp(-x))\n",
    "class Affine:#완전연결계층\n",
    "    def __init__(self,W,b):\n",
    "        self.params=[W,b]\n",
    "    def forward(self,x):#순전파 구현\n",
    "        W,b=self.params\n",
    "        out=np.matmul(x,W)+b\n",
    "        return out    "
   ]
  },
  {
   "cell_type": "markdown",
   "id": "d68f818f",
   "metadata": {},
   "source": [
    "신경망의 계층 구성:입력X->Affine->Sigmoid->Affine->S(점수)"
   ]
  },
  {
   "cell_type": "code",
   "execution_count": 17,
   "id": "ee1e915b",
   "metadata": {},
   "outputs": [],
   "source": [
    "class TwoLayerNet:\n",
    "    def __init__(self,input_size,hidden_size,output_size):#초기화 메서드-가중치 초기화\n",
    "        I,H,O=input_size,hidden_size,output_size\n",
    "        #가중치와 편향 초기화\n",
    "        W1=np.random.randn(I,H)\n",
    "        b1=np.random.randn(H)\n",
    "        W2=np.random.randn(H,O)\n",
    "        b2=np.random.randn(O)\n",
    "        #3개의 계층 생성\n",
    "        self.layers=[\n",
    "            Affine(W1,b1),\n",
    "            Sigmoid(),\n",
    "            Affine(W2,b2)\n",
    "        ]\n",
    "        #모든 가중치를 리스트에 모은다  \n",
    "        self.params=[]#params에 모든 학습 매개변수를 다 담음\n",
    "        for layer in self.layers:\n",
    "            self.params+=layer.params\n",
    "    def predict(self,x):#입력데이터x에 대한 점수s를 구함\n",
    "        for layer in self.layers:\n",
    "            x=layer.forward(x)\n",
    "        return x"
   ]
  },
  {
   "cell_type": "code",
   "execution_count": 18,
   "id": "a58d1d29",
   "metadata": {},
   "outputs": [
    {
     "data": {
      "text/plain": [
       "array([[ 1.57396877, -1.50722388,  1.0296036 ],\n",
       "       [ 2.14935137, -1.92002784,  1.07291756],\n",
       "       [ 2.0293449 , -1.81227732,  1.18924288],\n",
       "       [ 1.97326208, -1.77545126,  1.28440182],\n",
       "       [ 1.76097649, -1.43860223,  0.61729865],\n",
       "       [ 1.86566347, -1.67719564,  0.99980495],\n",
       "       [ 1.89734538, -1.67822277,  0.70356914],\n",
       "       [ 2.04632981, -1.82346522,  1.10643132],\n",
       "       [ 1.69496182, -1.56137741,  1.04877485],\n",
       "       [ 2.34173582, -2.10112891,  0.98908407]])"
      ]
     },
     "execution_count": 18,
     "metadata": {},
     "output_type": "execute_result"
    }
   ],
   "source": [
    "x=np.random.randn(10,2)\n",
    "model=TwoLayerNet(2,4,3)\n",
    "s=model.predict(x)\n",
    "s#점수들 출력"
   ]
  },
  {
   "cell_type": "markdown",
   "id": "4f49725c",
   "metadata": {},
   "source": [
    "## 1.3 신경망의 학습  \n",
    "신경망의 학습은 최적의 매개변수값을 찾는 작업  "
   ]
  },
  {
   "cell_type": "markdown",
   "id": "f6523065",
   "metadata": {},
   "source": [
    "## 1.3.1 손실함수  \n",
    "손실:학습단계의 특정 시점에서 신경망의 성능을 나타내는 척도  \n",
    "- 학습데이터와 신경망의 예측값을 비교해서 예측이 얼마나 나쁜가를 산출한 스칼라값  \n",
    "\n",
    "손실함수:다중클래스 분류 신경망에서는 손실함수로 흔히 교차엔트로피 오차를 이용."
   ]
  },
  {
   "cell_type": "markdown",
   "id": "b95622d2",
   "metadata": {},
   "source": [
    "교차 엔트로피 오차  \n",
    "- 신경망이 출력하는 각 클래스의 확률과 정답 레이블을 이용해 구함  \n",
    "\n",
    "softmax계층:소프트맥스 함수 구하는 계층  \n",
    "cross entropy error계층:교차 엔트로피 구하는 계층  "
   ]
  },
  {
   "cell_type": "markdown",
   "id": "9f3ed495",
   "metadata": {},
   "source": [
    "손실함수를 적용한 신경망의 계층 구성:\n",
    "X->Affine->Sigmoid->Affine->Softmax->cross entropy error->L  \n",
    "cf) 이때 x입력데이터,t정답데이터,L손실이다  \n",
    "cf) softmax계층의 출력은 확률로 교차 엔트로피 오차계층에는 확률과 정답레이블이 입력됨  \n",
    "Yk:k번째 클래스에 해당하는 소프트맥스 함수의 출력  \n",
    "분자:점수 Sk의 지수함수  \n",
    "분모:모든 입력신호의 지수함수의 총합  "
   ]
  },
  {
   "cell_type": "markdown",
   "id": "95e5a174",
   "metadata": {},
   "source": [
    "미니배치 처리를 고려한 교차 엔트로피 오차 식에서...  \n",
    "N:데이터의 개수    \n",
    "tnk:n번째 데이터의 k차원째의 값-정답레이블   \n",
    "Ynk:신경망의 출력  "
   ]
  },
  {
   "cell_type": "markdown",
   "id": "f8e819ca",
   "metadata": {},
   "source": [
    "softmax with loss계층:소프트맥스 함수와 교차 엔트로피 오차를 계산하는 계층  \n",
    "입력X->Affine->Sigmoid->Affine->Softmax with loss->L  "
   ]
  },
  {
   "cell_type": "markdown",
   "id": "6da73193",
   "metadata": {},
   "source": [
    "## 1.3.2 미분과 기울기  \n",
    "미분 dx/dy=x의 값을 조금변화시켰을때 y값이 얼마나 변하냐의 정도  \n",
    "기울기:벡터의 각 원소에 대한 미분  \n",
    "행렬에서의 기울기:L의 W에 대한 기울기를 행렬로 정리시, '행렬과 그 기울기의 형상은 같다'  "
   ]
  },
  {
   "cell_type": "markdown",
   "id": "079a371b",
   "metadata": {},
   "source": [
    "## 1.3.3 연쇄법칙  \n",
    "오차역전파법:신경망의 기울기, 연쇄법칙사용  \n",
    "연쇄법칙:합성함수에 대한 미분의 법칙  \n"
   ]
  },
  {
   "cell_type": "markdown",
   "id": "af244117",
   "metadata": {},
   "source": [
    "## 1.3.4 계산 그래프  \n",
    "계산그래프에서는 연산을 노드로 나타내고 그 처리 결과가 순서대로 흐른다(왼쪽->오른쪽(순전파))  \n",
    "역전파:기울기가 순전파와 반대방향으로 전파되는 것  \n",
    "역전파로 흐르는 미분값은 상류로부터 흐르는 미분과 각 연산노드의 국소적인 미분을 곱해 계산  "
   ]
  },
  {
   "cell_type": "markdown",
   "id": "c267611e",
   "metadata": {},
   "source": [
    "곱셈노드의 역전파:상류로부터 받은 기울기에 순전파시 입력을 서로 바꾼 값을 곱함  \n",
    "분기노드:선이 두개가 되도록 나눠 그림, 상류에서 온 기울기들의 합  "
   ]
  },
  {
   "cell_type": "markdown",
   "id": "821966d3",
   "metadata": {},
   "source": [
    "repeat노드:2개로 분기하는 분기노드를 일반화(N개로의 복제 및 분기)  "
   ]
  },
  {
   "cell_type": "code",
   "execution_count": 19,
   "id": "fd48b400",
   "metadata": {},
   "outputs": [],
   "source": [
    "import numpy as np\n",
    "D,N=8,7\n",
    "x=np.random.randn(1,D)#입력\n",
    "y=np.repeat(x,N,axis=0)#순전파\n",
    "dy=np.random.randn(N,D)#무작위 기울기\n",
    "dx=np.sum(dy,axis=0,keepdims=True)#역전파  keepdims=True로 하면 2차원 배열의 차원 수 유지"
   ]
  },
  {
   "cell_type": "markdown",
   "id": "1b092a8d",
   "metadata": {},
   "source": [
    "Sum노드-범용 덧셈 노드  \n",
    "- 역전파는 상류로부터 기울기를 모든 화살표에 분배  "
   ]
  },
  {
   "cell_type": "code",
   "execution_count": 20,
   "id": "b73242d2",
   "metadata": {},
   "outputs": [],
   "source": [
    "D,N=8,7\n",
    "x=np.random.randn(N,D)#입력\n",
    "y=np.sum(x,axis=0,keepdims=True)#순전파  \n",
    "dy=np.random.randn(1,D)#무작위 기울기 \n",
    "dx=np.repeat(dy,N,axis=0)#역전파"
   ]
  },
  {
   "cell_type": "markdown",
   "id": "5849d531",
   "metadata": {},
   "source": [
    "#### 행렬에서 matmul노드의 역전파  \n",
    "W가 관여하는 이유:곱셈의 역전파에서 순전파의 입력을 서로 바꾼 값을 사용했듯이, 행렬의 역전파에서도 순전파시 입력을 서로 바꾼 행렬을 사용해서 행렬곱을 조합한다  \n"
   ]
  },
  {
   "cell_type": "code",
   "execution_count": 21,
   "id": "9bee20e3",
   "metadata": {},
   "outputs": [],
   "source": [
    "class MatMul:\n",
    "    def __init__(self,W):\n",
    "        self.params=[W]\n",
    "        self.grads=[np.zeros_like(W)]\n",
    "        self.x=None\n",
    "    def forward(self,x):\n",
    "        W,=self.params\n",
    "        out=np.matmul(x,W)\n",
    "        self.x=x\n",
    "        return out\n",
    "    def backward(self,dout):\n",
    "        W,=self.params\n",
    "        dx=np.matmul(dout,W.T)\n",
    "        dW=np.matmul(self.X.T,dout)\n",
    "        self.grads[0][...]=dW#깊은 복사\n",
    "        return dx\n",
    "#생략기호 사용:변수의 메모리 주소 고정"
   ]
  },
  {
   "cell_type": "code",
   "execution_count": 22,
   "id": "00484102",
   "metadata": {},
   "outputs": [],
   "source": [
    "a=np.array([1,2,3])\n",
    "b=np.array([4,5,6])\n",
    "#a=b와 a[..]=b의 차이:\n",
    "#생략기호...는 데이터를 덮어써서 변수가 가리키는 메모리 위치는 변하지 않음"
   ]
  },
  {
   "cell_type": "markdown",
   "id": "da7adb60",
   "metadata": {},
   "source": [
    "## 1.3.5 기울기 도출과 역전파 구현  \n",
    "Sigmoid계층 구현  \n",
    "출력쪽 계층으로부터 전해진 기울기에 시그모이드함수의 미분y(1-y)를 곱해서 값을 입력쪽 계층으로 전파  "
   ]
  },
  {
   "cell_type": "code",
   "execution_count": 23,
   "id": "c4310da3",
   "metadata": {},
   "outputs": [],
   "source": [
    "class Sigmoid:\n",
    "    def __init__(self):\n",
    "        self.params,self.grads=[],[]\n",
    "        self.out=None\n",
    "    def forward(self,x):#순전파때는 출력을 out변수에 저장\n",
    "        out=1/(1+np.exp(-x))\n",
    "        self.out=out\n",
    "        return out\n",
    "    def backward(self,dout):#역전파때 out변수 활용:기울기에 y(1-y)형태 곱하기\n",
    "        dx=dout*(1.0-self.out)*self.out\n",
    "        return dx"
   ]
  },
  {
   "cell_type": "markdown",
   "id": "7a23894b",
   "metadata": {},
   "source": [
    "Affine계층 구현  \n",
    "순전파때는 y=np.matmul(x,W)+b로 구현가능  \n",
    "편향을 더할때는 numpy의 브로드캐스트가 사용됨  \n",
    "matmul노드로 행렬곱을 계산하고 ㅕㄴ향은 repeat노드에 의해 복제 후 더해짐  "
   ]
  },
  {
   "cell_type": "code",
   "execution_count": 24,
   "id": "c2e8c802",
   "metadata": {},
   "outputs": [],
   "source": [
    "class Affine:\n",
    "    def __init__(self,W,b):\n",
    "        self.params=[W,b]\n",
    "        self.grads=[np.zeros_like(W),np.zeros_like(b)]\n",
    "        self.x=None\n",
    "    def forward(self,x):\n",
    "        W,b=self.params\n",
    "        out=np.matmul(x,W)+b\n",
    "        self.x=x\n",
    "        return out\n",
    "    def backward(self,dout):#역전파는 sum메서드로 계산 가능하고 가중치 매개변수기울기를 grads에 저장\n",
    "        W,b=self.params\n",
    "        dx=np.matmul(dout,W.T)\n",
    "        dW=np.matmul(self.x.T,dout)\n",
    "        db=np.sum(dout,axis=0)\n",
    "        self.grads[0][...]=dW\n",
    "        self.grads[1][...]=db\n",
    "        return dx"
   ]
  },
  {
   "cell_type": "markdown",
   "id": "c657f452",
   "metadata": {},
   "source": [
    "#### Softmax with Loss계층  \n",
    "3-클래스 분류를 가정하여 이전계층(입력층에 가까운 계층)으로부터 3개의 입력을 받도록 함  \n",
    "입력 (a1,a2,a3)를 정규화해서 (y1,y2,y3)를 출력  \n",
    "cross entropy error계층은 softmax출력(y1,y2,y3)와 정답레이블 (t1,t2,t3)를 받고 이로부터 손실L을 구해 출력"
   ]
  },
  {
   "cell_type": "code",
   "execution_count": 25,
   "id": "a98534f5",
   "metadata": {},
   "outputs": [],
   "source": [
    "class Softmax:\n",
    "    def __init__(self):\n",
    "        self.params, self.grads = [], []\n",
    "        self.out = None\n",
    "\n",
    "    def forward(self, x):\n",
    "        self.out = softmax(x)\n",
    "        return self.out\n",
    "\n",
    "    def backward(self, dout):\n",
    "        dx = self.out * dout\n",
    "        sumdx = np.sum(dx, axis=1, keepdims=True)\n",
    "        dx -= self.out * sumdx\n",
    "        return dx"
   ]
  },
  {
   "cell_type": "code",
   "execution_count": 26,
   "id": "68b13c53",
   "metadata": {},
   "outputs": [],
   "source": [
    "def softmax(a):\n",
    "    c=np.max(a)\n",
    "    exp_a=np.exp(a-c)\n",
    "    sum_exp_a=np.sum(exp_a)\n",
    "    y=exp_a/sum_exp_a\n",
    "    return y"
   ]
  },
  {
   "cell_type": "code",
   "execution_count": 27,
   "id": "9bacb71a",
   "metadata": {},
   "outputs": [],
   "source": [
    "def cross_entropy_error(y, t):\n",
    "    if y.ndim == 1:\n",
    "        t = t.reshape(1, t.size)\n",
    "        y = y.reshape(1, y.size)\n",
    "\n",
    "    # 정답 데이터가 원핫 벡터일 경우 정답 레이블 인덱스로 변환\n",
    "    if t.size == y.size:\n",
    "        t = t.argmax(axis=1)\n",
    "    \n",
    "    batch_size = y.shape[0]\n",
    "\n",
    "    cross_entropy = np.log(y[np.arange(batch_size), t] + 1e-7)\n",
    "    loss = -np.sum(cross_entropy) / batch_size\n",
    "    \n",
    "    return loss"
   ]
  },
  {
   "cell_type": "code",
   "execution_count": 28,
   "id": "de86a25e",
   "metadata": {},
   "outputs": [],
   "source": [
    "import sys\n",
    "import numpy as np\n",
    "\n",
    "class SoftmaxWithLoss:\n",
    "    def __init__(self):\n",
    "        self.params, self.grads = [], []\n",
    "        self.y = None  #softmax의 출력\n",
    "        self.t = None  #정답 레이블\n",
    "\n",
    "    def forward(self, x, t):\n",
    "        self.t = t\n",
    "        self.y = softmax(x)\n",
    "        if self.t.size == self.y.size:#원핫벡터로 변환(t가 원핫벡터면 정답인덱스로 변환argmax)\n",
    "            self.t = self.t. argmax(axis=1)\n",
    "        loss = cross_entropy_error(self.y, self.t)\n",
    "        return loss\n",
    "\n",
    "    def backward(self, dout=1):\n",
    "        batch_size = self.t.shape[0]\n",
    "        dx = self.y.copy()#복사\n",
    "        dx[np.arange(batch_size), self.t] -= 1\n",
    "        dx *= dout\n",
    "        dx /= batch_size\n",
    "        return dx"
   ]
  },
  {
   "cell_type": "markdown",
   "id": "b614bb10",
   "metadata": {},
   "source": [
    "## 1.3.6 가중치 갱신  \n",
    "1단계:미니배치    \n",
    "- 훈련데이터 중에서 무작위로 다수의 데이터를 골라낸다   \n",
    "\n",
    "2단계:기울기 계산  \n",
    "- 오차 역전파법으로 각 가중치 매개변수에 대한 손실함수의 기울기를 구한다  \n",
    "\n",
    "3단계:매개변수 갱신  \n",
    "- 기울기를 사용하여 가중치 매개변수를 갱신한다  \n",
    "\n",
    "4단계:반복  \n",
    "- 1~3단계를 필요한 만큼 반복한다  "
   ]
  },
  {
   "cell_type": "markdown",
   "id": "a389207b",
   "metadata": {},
   "source": [
    "경사하강법:매개변수를 그 기울기와 반대방향으로 갱신하면 손실을 줄일 수 있어서 사용  \n",
    "SGD확률적경사하강법:현재의 가중치를 기울기 방향으로 일정한 거리만큼 갱신  \n",
    "W:갱신하는 가중치 매개변수  \n",
    "params,grads:각각 신경망의 가중치, 기울기를 리스트형식으로 저장  "
   ]
  },
  {
   "cell_type": "code",
   "execution_count": 29,
   "id": "1b7ed94f",
   "metadata": {},
   "outputs": [],
   "source": [
    "class SGD:\n",
    "    def __init__(self,lr=0.01):\n",
    "        self.lr=lr\n",
    "    def update(self,params,grads):\n",
    "        for i in range(len(params)):\n",
    "            params[i]-=self.lr*grads[i]"
   ]
  },
  {
   "cell_type": "markdown",
   "id": "4da54901",
   "metadata": {},
   "source": [
    "# 1.4 신경망으로 문제를 풀다  "
   ]
  },
  {
   "cell_type": "markdown",
   "id": "dbbbe0bf",
   "metadata": {},
   "source": [
    "## 1.4.1 스파이럴 데이터셋 "
   ]
  },
  {
   "cell_type": "code",
   "execution_count": 30,
   "id": "d3573ce0",
   "metadata": {},
   "outputs": [],
   "source": [
    "import numpy as np\n",
    "\n",
    "def load_data(seed=1984):\n",
    "    np.random.seed(seed)\n",
    "    N = 100  # 클래스당 샘플 수\n",
    "    DIM = 2  # 데어터 요소 수\n",
    "    CLS_NUM = 3  # 클래스 수\n",
    "\n",
    "    x = np.zeros((N*CLS_NUM, DIM))\n",
    "    t = np.zeros((N*CLS_NUM, CLS_NUM), dtype=np.int)\n",
    "\n",
    "    for j in range(CLS_NUM):\n",
    "        for i in range(N): # N*j, N*(j+1)):\n",
    "            rate = i / N\n",
    "            radius = 1.0*rate\n",
    "            theta = j*4.0 + 4.0*rate + np.random.randn()*0.2\n",
    "\n",
    "            ix = N*j + i\n",
    "            x[ix] = np.array([radius*np.sin(theta),\n",
    "                              radius*np.cos(theta)]).flatten()\n",
    "            t[ix, j] = 1\n",
    "\n",
    "    return x, t"
   ]
  },
  {
   "cell_type": "code",
   "execution_count": 31,
   "id": "cd14c2cb",
   "metadata": {},
   "outputs": [
    {
     "name": "stdout",
     "output_type": "stream",
     "text": [
      "x (300, 2)\n",
      "t (300, 3)\n"
     ]
    }
   ],
   "source": [
    "import sys\n",
    "sys.path.append('..')#부모 디렉토리 파일을 가져오도록 설정\n",
    "from common import spiral\n",
    "import matplotlib.pyplot as plt\n",
    "x,t=spiral.load_data()#x는 입력데이터,t는 정답레이블\n",
    "print('x',x.shape)#(300,2)\n",
    "print('t',t.shape)#(300,3)"
   ]
  },
  {
   "cell_type": "code",
   "execution_count": 32,
   "id": "afb620a1",
   "metadata": {
    "scrolled": true
   },
   "outputs": [
    {
     "data": {
      "image/png": "[encoded data removed]",
      "text/plain": [
       "<Figure size 432x288 with 1 Axes>"
      ]
     },
     "metadata": {
      "needs_background": "light"
     },
     "output_type": "display_data"
    }
   ],
   "source": [
    "N = 100\n",
    "CLS_NUM = 3\n",
    "markers = ['o', 'x', '^']\n",
    "for i in range(CLS_NUM):\n",
    "    plt.scatter(x[i*N:(i+1)*N, 0], x[i*N:(i+1)*N, 1], s=40, marker=markers[i])\n",
    "plt.show()"
   ]
  },
  {
   "cell_type": "markdown",
   "id": "ede67ac2",
   "metadata": {},
   "source": [
    "## 1.4.2 신경망 구현  "
   ]
  },
  {
   "cell_type": "code",
   "execution_count": 33,
   "id": "25e97ea3",
   "metadata": {},
   "outputs": [],
   "source": [
    "import sys\n",
    "import numpy as np\n",
    "#import Affine,Sigmoid,SoftmaxWithLoss\n",
    "class TwoLayerNet:\n",
    "    def __init__(self,input_size,hidden_size,output_size):\n",
    "        I,H,O=input_size,hidden_size,output_size\n",
    "        #가중치와 편향초기화\n",
    "        W1=0.01*np.random.randn(I,H)\n",
    "        b1=np.zeros(H)\n",
    "        W2=0.01*np.random.randn(H,O)\n",
    "        b2=np.zeros(O)\n",
    "        #계층 생성\n",
    "        self.layers=[\n",
    "            Affine(W1,b1),\n",
    "            Sigmoid(),\n",
    "            Affine(W2,b2)\n",
    "        ]\n",
    "        self.loss_layer=SoftmaxWithLoss()\n",
    "        #모든 가중치와 기울기를 리스트에 저장\n",
    "        self.params,self.grads=[],[]\n",
    "        for layer in self.layers:\n",
    "            self.params+=layer.params\n",
    "            self.grads+=layer.grads\n",
    "    def predict(self,x):\n",
    "        for layer in self.layers:\n",
    "            x=layer.forward(x)\n",
    "        return x\n",
    "    def forward(self,x,t):\n",
    "        score=self.predict(x)\n",
    "        loss=self.loss_layer.forward(score,t)\n",
    "        return loss\n",
    "    def backward(self,dout=1):\n",
    "        dout=self.loss_layer.backward(dout)\n",
    "        for layer in reversed(self.layers):\n",
    "            dout=layer.backward(dout)\n",
    "        return dout"
   ]
  },
  {
   "cell_type": "markdown",
   "id": "b88b5117",
   "metadata": {},
   "source": [
    "## 1.4.3 학습용 코드  "
   ]
  },
  {
   "cell_type": "code",
   "execution_count": 34,
   "id": "b0e17c76",
   "metadata": {
    "scrolled": true
   },
   "outputs": [
    {
     "name": "stdout",
     "output_type": "stream",
     "text": [
      "Requirement already satisfied: tqdm in c:\\users\\a0103\\anaconda3\\lib\\site-packages (4.64.0)\n",
      "Requirement already satisfied: colorama in c:\\users\\a0103\\anaconda3\\lib\\site-packages (from tqdm) (0.4.4)\n",
      "Note: you may need to restart the kernel to use updated packages.\n"
     ]
    }
   ],
   "source": [
    "pip install tqdm"
   ]
  },
  {
   "cell_type": "code",
   "execution_count": 35,
   "id": "baab3b9d",
   "metadata": {},
   "outputs": [
    {
     "name": "stderr",
     "output_type": "stream",
     "text": [
      " 31%|████████████████████████▌                                                       | 92/300 [00:00<00:00, 828.42it/s]"
     ]
    },
    {
     "name": "stdout",
     "output_type": "stream",
     "text": [
      "| 에폭 1 | 반복10/10 | 손실 1.13\n",
      "| 에폭 2 | 반복10/10 | 손실 1.13\n",
      "| 에폭 3 | 반복10/10 | 손실 1.12\n",
      "| 에폭 4 | 반복10/10 | 손실 1.12\n",
      "| 에폭 5 | 반복10/10 | 손실 1.11\n",
      "| 에폭 6 | 반복10/10 | 손실 1.14\n",
      "| 에폭 7 | 반복10/10 | 손실 1.16\n",
      "| 에폭 8 | 반복10/10 | 손실 1.11\n",
      "| 에폭 9 | 반복10/10 | 손실 1.12\n",
      "| 에폭 10 | 반복10/10 | 손실 1.13\n",
      "| 에폭 11 | 반복10/10 | 손실 1.12\n",
      "| 에폭 12 | 반복10/10 | 손실 1.11\n",
      "| 에폭 13 | 반복10/10 | 손실 1.09\n",
      "| 에폭 14 | 반복10/10 | 손실 1.08\n",
      "| 에폭 15 | 반복10/10 | 손실 1.04\n",
      "| 에폭 16 | 반복10/10 | 손실 1.03\n",
      "| 에폭 17 | 반복10/10 | 손실 0.96\n",
      "| 에폭 18 | 반복10/10 | 손실 0.92\n",
      "| 에폭 19 | 반복10/10 | 손실 0.92\n",
      "| 에폭 20 | 반복10/10 | 손실 0.87\n",
      "| 에폭 21 | 반복10/10 | 손실 0.85\n",
      "| 에폭 22 | 반복10/10 | 손실 0.82\n",
      "| 에폭 23 | 반복10/10 | 손실 0.79\n",
      "| 에폭 24 | 반복10/10 | 손실 0.78\n",
      "| 에폭 25 | 반복10/10 | 손실 0.82\n",
      "| 에폭 26 | 반복10/10 | 손실 0.78\n",
      "| 에폭 27 | 반복10/10 | 손실 0.76\n",
      "| 에폭 28 | 반복10/10 | 손실 0.76\n",
      "| 에폭 29 | 반복10/10 | 손실 0.78\n",
      "| 에폭 30 | 반복10/10 | 손실 0.75\n",
      "| 에폭 31 | 반복10/10 | 손실 0.78\n",
      "| 에폭 32 | 반복10/10 | 손실 0.77\n",
      "| 에폭 33 | 반복10/10 | 손실 0.77\n",
      "| 에폭 34 | 반복10/10 | 손실 0.78\n",
      "| 에폭 35 | 반복10/10 | 손실 0.75\n",
      "| 에폭 36 | 반복10/10 | 손실 0.74\n",
      "| 에폭 37 | 반복10/10 | 손실 0.76\n",
      "| 에폭 38 | 반복10/10 | 손실 0.76\n",
      "| 에폭 39 | 반복10/10 | 손실 0.73\n",
      "| 에폭 40 | 반복10/10 | 손실 0.75\n",
      "| 에폭 41 | 반복10/10 | 손실 0.76\n",
      "| 에폭 42 | 반복10/10 | 손실 0.76\n",
      "| 에폭 43 | 반복10/10 | 손실 0.76\n",
      "| 에폭 44 | 반복10/10 | 손실 0.74\n",
      "| 에폭 45 | 반복10/10 | 손실 0.75\n",
      "| 에폭 46 | 반복10/10 | 손실 0.73\n",
      "| 에폭 47 | 반복10/10 | 손실 0.72\n",
      "| 에폭 48 | 반복10/10 | 손실 0.73\n",
      "| 에폭 49 | 반복10/10 | 손실 0.72\n",
      "| 에폭 50 | 반복10/10 | 손실 0.72\n",
      "| 에폭 51 | 반복10/10 | 손실 0.72\n",
      "| 에폭 52 | 반복10/10 | 손실 0.72\n",
      "| 에폭 53 | 반복10/10 | 손실 0.74\n",
      "| 에폭 54 | 반복10/10 | 손실 0.74\n",
      "| 에폭 55 | 반복10/10 | 손실 0.72\n",
      "| 에폭 56 | 반복10/10 | 손실 0.72\n",
      "| 에폭 57 | 반복10/10 | 손실 0.71\n",
      "| 에폭 58 | 반복10/10 | 손실 0.70\n",
      "| 에폭 59 | 반복10/10 | 손실 0.72\n",
      "| 에폭 60 | 반복10/10 | 손실 0.70\n",
      "| 에폭 61 | 반복10/10 | 손실 0.71\n",
      "| 에폭 62 | 반복10/10 | 손실 0.72\n",
      "| 에폭 63 | 반복10/10 | 손실 0.70\n",
      "| 에폭 64 | 반복10/10 | 손실 0.71\n",
      "| 에폭 65 | 반복10/10 | 손실 0.73\n",
      "| 에폭 66 | 반복10/10 | 손실 0.70\n",
      "| 에폭 67 | 반복10/10 | 손실 0.71\n",
      "| 에폭 68 | 반복10/10 | 손실 0.69\n",
      "| 에폭 69 | 반복10/10 | 손실 0.70\n",
      "| 에폭 70 | 반복10/10 | 손실 0.71\n",
      "| 에폭 71 | 반복10/10 | 손실 0.68\n",
      "| 에폭 72 | 반복10/10 | 손실 0.69\n",
      "| 에폭 73 | 반복10/10 | 손실 0.67\n",
      "| 에폭 74 | 반복10/10 | 손실 0.68\n",
      "| 에폭 75 | 반복10/10 | 손실 0.67\n",
      "| 에폭 76 | 반복10/10 | 손실 0.66\n",
      "| 에폭 77 | 반복10/10 | 손실 0.69\n",
      "| 에폭 78 | 반복10/10 | 손실 0.64\n",
      "| 에폭 79 | 반복10/10 | 손실 0.68\n",
      "| 에폭 80 | 반복10/10 | 손실 0.64\n",
      "| 에폭 81 | 반복10/10 | 손실 0.64\n",
      "| 에폭 82 | 반복10/10 | 손실 0.66\n",
      "| 에폭 83 | 반복10/10 | 손실 0.62\n",
      "| 에폭 84 | 반복10/10 | 손실 0.62\n",
      "| 에폭 85 | 반복10/10 | 손실 0.61\n",
      "| 에폭 86 | 반복10/10 | 손실 0.60\n",
      "| 에폭 87 | 반복10/10 | 손실 0.60\n",
      "| 에폭 88 | 반복10/10 | 손실 0.61\n",
      "| 에폭 89 | 반복10/10 | 손실 0.59\n",
      "| 에폭 90 | 반복10/10 | 손실 0.58\n",
      "| 에폭 91 | 반복10/10 | 손실 0.56\n",
      "| 에폭 92 | 반복10/10 | 손실 0.56\n",
      "| 에폭 93 | 반복10/10 | 손실 0.54\n",
      "| 에폭 94 | 반복10/10 | 손실 0.53\n",
      "| 에폭 95 | 반복10/10 | 손실 0.53\n",
      "| 에폭 96 | 반복10/10 | 손실 0.52\n",
      "| 에폭 97 | 반복10/10 | 손실 0.51\n",
      "| 에폭 98 | 반복10/10 | 손실 0.50\n",
      "| 에폭 99 | 반복10/10 | 손실 0.48\n",
      "| 에폭 100 | 반복10/10 | 손실 0.48\n",
      "| 에폭 101 | 반복10/10 | 손실 0.46\n",
      "| 에폭 102 | 반복10/10 | 손실 0.45\n",
      "| 에폭 103 | 반복10/10 | 손실 0.45\n",
      "| 에폭 104 | 반복10/10 | 손실 0.44\n",
      "| 에폭 105 | 반복10/10 | 손실 0.44\n",
      "| 에폭 106 | 반복10/10 | 손실 0.41\n",
      "| 에폭 107 | 반복10/10 | 손실 0.40\n",
      "| 에폭 108 | 반복10/10 | 손실 0.41\n",
      "| 에폭 109 | 반복10/10 | 손실 0.40\n",
      "| 에폭 110 | 반복10/10 | 손실 0.40\n",
      "| 에폭 111 | 반복10/10 | 손실 0.38\n",
      "| 에폭 112 | 반복10/10 | 손실 0.38\n",
      "| 에폭 113 | 반복10/10 | 손실 0.36\n",
      "| 에폭 114 | 반복10/10 | 손실 0.37\n",
      "| 에폭 115 | 반복10/10 | 손실 0.35\n",
      "| 에폭 116 | 반복10/10 | 손실 0.34\n",
      "| 에폭 117 | 반복10/10 | 손실 0.34\n",
      "| 에폭 118 | 반복10/10 | 손실 0.34\n",
      "| 에폭 119 | 반복10/10 | 손실 0.33\n",
      "| 에폭 120 | 반복10/10 | 손실 0.34\n",
      "| 에폭 121 | 반복10/10 | 손실 0.32\n",
      "| 에폭 122 | 반복10/10 | 손실 0.32\n",
      "| 에폭 123 | 반복10/10 | 손실 0.31\n",
      "| 에폭 124 | 반복10/10 | 손실 0.31\n",
      "| 에폭 125 | 반복10/10 | 손실 0.30\n",
      "| 에폭 126 | 반복10/10 | 손실 0.30\n",
      "| 에폭 127 | 반복10/10 | 손실 0.28\n",
      "| 에폭 128 | 반복10/10 | 손실 0.28\n",
      "| 에폭 129 | 반복10/10 | 손실 0.28\n",
      "| 에폭 130 | 반복10/10 | 손실 0.28\n",
      "| 에폭 131 | 반복10/10 | 손실 0.27\n",
      "| 에폭 132 | 반복10/10 | 손실 0.27\n",
      "| 에폭 133 | 반복10/10 | 손실 0.27\n",
      "| 에폭 134 | 반복10/10 | 손실 0.27\n",
      "| 에폭 135 | 반복10/10 | 손실 0.27\n",
      "| 에폭 136 | 반복10/10 | 손실 0.26\n",
      "| 에폭 137 | 반복10/10 | 손실 0.26\n",
      "| 에폭 138 | 반복10/10 | 손실 0.26\n",
      "| 에폭 139 | 반복10/10 | 손실 0.25\n",
      "| 에폭 140 | 반복10/10 | 손실 0.24\n",
      "| 에폭 141 | 반복10/10 | 손실 0.24\n",
      "| 에폭 142 | 반복10/10 | 손실 0.25\n",
      "| 에폭 143 | 반복10/10 | 손실 0.24\n",
      "| 에폭 144 | 반복10/10 | 손실 0.24\n",
      "| 에폭 145 | 반복10/10 | 손실 0.23\n",
      "| 에폭 146 | 반복10/10 | 손실 0.24\n",
      "| 에폭 147 | 반복10/10 | 손실 0.23\n",
      "| 에폭 148 | 반복10/10 | 손실 0.23\n",
      "| 에폭 149 | 반복10/10 | 손실 0.22\n",
      "| 에폭 150 | 반복10/10 | 손실 0.22\n",
      "| 에폭 151 | 반복10/10 | 손실 0.22\n",
      "| 에폭 152 | 반복10/10 | 손실 0.22\n",
      "| 에폭 153 | 반복10/10 | 손실 0.22\n",
      "| 에폭 154 | 반복10/10 | 손실 0.22\n",
      "| 에폭 155 | 반복10/10 | 손실 0.22\n",
      "| 에폭 156 | 반복10/10 | 손실 0.21\n",
      "| 에폭 157 | 반복10/10 | 손실 0.21\n",
      "| 에폭 158 | 반복10/10 | 손실 0.20\n",
      "| 에폭 159 | 반복10/10 | 손실 0.21\n"
     ]
    },
    {
     "name": "stderr",
     "output_type": "stream",
     "text": [
      "100%|███████████████████████████████████████████████████████████████████████████████| 300/300 [00:00<00:00, 943.60it/s]"
     ]
    },
    {
     "name": "stdout",
     "output_type": "stream",
     "text": [
      "| 에폭 160 | 반복10/10 | 손실 0.20\n",
      "| 에폭 161 | 반복10/10 | 손실 0.20\n",
      "| 에폭 162 | 반복10/10 | 손실 0.20\n",
      "| 에폭 163 | 반복10/10 | 손실 0.21\n",
      "| 에폭 164 | 반복10/10 | 손실 0.20\n",
      "| 에폭 165 | 반복10/10 | 손실 0.20\n",
      "| 에폭 166 | 반복10/10 | 손실 0.19\n",
      "| 에폭 167 | 반복10/10 | 손실 0.19\n",
      "| 에폭 168 | 반복10/10 | 손실 0.19\n",
      "| 에폭 169 | 반복10/10 | 손실 0.19\n",
      "| 에폭 170 | 반복10/10 | 손실 0.19\n",
      "| 에폭 171 | 반복10/10 | 손실 0.19\n",
      "| 에폭 172 | 반복10/10 | 손실 0.18\n",
      "| 에폭 173 | 반복10/10 | 손실 0.18\n",
      "| 에폭 174 | 반복10/10 | 손실 0.18\n",
      "| 에폭 175 | 반복10/10 | 손실 0.18\n",
      "| 에폭 176 | 반복10/10 | 손실 0.18\n",
      "| 에폭 177 | 반복10/10 | 손실 0.18\n",
      "| 에폭 178 | 반복10/10 | 손실 0.18\n",
      "| 에폭 179 | 반복10/10 | 손실 0.17\n",
      "| 에폭 180 | 반복10/10 | 손실 0.17\n",
      "| 에폭 181 | 반복10/10 | 손실 0.18\n",
      "| 에폭 182 | 반복10/10 | 손실 0.17\n",
      "| 에폭 183 | 반복10/10 | 손실 0.18\n",
      "| 에폭 184 | 반복10/10 | 손실 0.17\n",
      "| 에폭 185 | 반복10/10 | 손실 0.17\n",
      "| 에폭 186 | 반복10/10 | 손실 0.18\n",
      "| 에폭 187 | 반복10/10 | 손실 0.17\n",
      "| 에폭 188 | 반복10/10 | 손실 0.17\n",
      "| 에폭 189 | 반복10/10 | 손실 0.17\n",
      "| 에폭 190 | 반복10/10 | 손실 0.17\n",
      "| 에폭 191 | 반복10/10 | 손실 0.16\n",
      "| 에폭 192 | 반복10/10 | 손실 0.17\n",
      "| 에폭 193 | 반복10/10 | 손실 0.16\n",
      "| 에폭 194 | 반복10/10 | 손실 0.16\n",
      "| 에폭 195 | 반복10/10 | 손실 0.16\n",
      "| 에폭 196 | 반복10/10 | 손실 0.16\n",
      "| 에폭 197 | 반복10/10 | 손실 0.16\n",
      "| 에폭 198 | 반복10/10 | 손실 0.15\n",
      "| 에폭 199 | 반복10/10 | 손실 0.16\n",
      "| 에폭 200 | 반복10/10 | 손실 0.16\n",
      "| 에폭 201 | 반복10/10 | 손실 0.15\n",
      "| 에폭 202 | 반복10/10 | 손실 0.16\n",
      "| 에폭 203 | 반복10/10 | 손실 0.16\n",
      "| 에폭 204 | 반복10/10 | 손실 0.15\n",
      "| 에폭 205 | 반복10/10 | 손실 0.16\n",
      "| 에폭 206 | 반복10/10 | 손실 0.15\n",
      "| 에폭 207 | 반복10/10 | 손실 0.15\n",
      "| 에폭 208 | 반복10/10 | 손실 0.15\n",
      "| 에폭 209 | 반복10/10 | 손실 0.15\n",
      "| 에폭 210 | 반복10/10 | 손실 0.15\n",
      "| 에폭 211 | 반복10/10 | 손실 0.15\n",
      "| 에폭 212 | 반복10/10 | 손실 0.15\n",
      "| 에폭 213 | 반복10/10 | 손실 0.15\n",
      "| 에폭 214 | 반복10/10 | 손실 0.15\n",
      "| 에폭 215 | 반복10/10 | 손실 0.15\n",
      "| 에폭 216 | 반복10/10 | 손실 0.14\n",
      "| 에폭 217 | 반복10/10 | 손실 0.14\n",
      "| 에폭 218 | 반복10/10 | 손실 0.15\n",
      "| 에폭 219 | 반복10/10 | 손실 0.14\n",
      "| 에폭 220 | 반복10/10 | 손실 0.14\n",
      "| 에폭 221 | 반복10/10 | 손실 0.14\n",
      "| 에폭 222 | 반복10/10 | 손실 0.14\n",
      "| 에폭 223 | 반복10/10 | 손실 0.14\n",
      "| 에폭 224 | 반복10/10 | 손실 0.14\n",
      "| 에폭 225 | 반복10/10 | 손실 0.14\n",
      "| 에폭 226 | 반복10/10 | 손실 0.14\n",
      "| 에폭 227 | 반복10/10 | 손실 0.14\n",
      "| 에폭 228 | 반복10/10 | 손실 0.14\n",
      "| 에폭 229 | 반복10/10 | 손실 0.13\n",
      "| 에폭 230 | 반복10/10 | 손실 0.14\n",
      "| 에폭 231 | 반복10/10 | 손실 0.13\n",
      "| 에폭 232 | 반복10/10 | 손실 0.14\n",
      "| 에폭 233 | 반복10/10 | 손실 0.13\n",
      "| 에폭 234 | 반복10/10 | 손실 0.13\n",
      "| 에폭 235 | 반복10/10 | 손실 0.13\n",
      "| 에폭 236 | 반복10/10 | 손실 0.13\n",
      "| 에폭 237 | 반복10/10 | 손실 0.14\n",
      "| 에폭 238 | 반복10/10 | 손실 0.13\n",
      "| 에폭 239 | 반복10/10 | 손실 0.13\n",
      "| 에폭 240 | 반복10/10 | 손실 0.14\n",
      "| 에폭 241 | 반복10/10 | 손실 0.13\n",
      "| 에폭 242 | 반복10/10 | 손실 0.13\n",
      "| 에폭 243 | 반복10/10 | 손실 0.13\n",
      "| 에폭 244 | 반복10/10 | 손실 0.13\n",
      "| 에폭 245 | 반복10/10 | 손실 0.13\n",
      "| 에폭 246 | 반복10/10 | 손실 0.13\n",
      "| 에폭 247 | 반복10/10 | 손실 0.13\n",
      "| 에폭 248 | 반복10/10 | 손실 0.13\n",
      "| 에폭 249 | 반복10/10 | 손실 0.13\n",
      "| 에폭 250 | 반복10/10 | 손실 0.13\n",
      "| 에폭 251 | 반복10/10 | 손실 0.13\n",
      "| 에폭 252 | 반복10/10 | 손실 0.12\n",
      "| 에폭 253 | 반복10/10 | 손실 0.12\n",
      "| 에폭 254 | 반복10/10 | 손실 0.12\n",
      "| 에폭 255 | 반복10/10 | 손실 0.12\n",
      "| 에폭 256 | 반복10/10 | 손실 0.12\n",
      "| 에폭 257 | 반복10/10 | 손실 0.12\n",
      "| 에폭 258 | 반복10/10 | 손실 0.12\n",
      "| 에폭 259 | 반복10/10 | 손실 0.13\n",
      "| 에폭 260 | 반복10/10 | 손실 0.12\n",
      "| 에폭 261 | 반복10/10 | 손실 0.13\n",
      "| 에폭 262 | 반복10/10 | 손실 0.12\n",
      "| 에폭 263 | 반복10/10 | 손실 0.12\n",
      "| 에폭 264 | 반복10/10 | 손실 0.13\n",
      "| 에폭 265 | 반복10/10 | 손실 0.12\n",
      "| 에폭 266 | 반복10/10 | 손실 0.12\n",
      "| 에폭 267 | 반복10/10 | 손실 0.12\n",
      "| 에폭 268 | 반복10/10 | 손실 0.12\n",
      "| 에폭 269 | 반복10/10 | 손실 0.11\n",
      "| 에폭 270 | 반복10/10 | 손실 0.12\n",
      "| 에폭 271 | 반복10/10 | 손실 0.12\n",
      "| 에폭 272 | 반복10/10 | 손실 0.12\n",
      "| 에폭 273 | 반복10/10 | 손실 0.12\n",
      "| 에폭 274 | 반복10/10 | 손실 0.12\n",
      "| 에폭 275 | 반복10/10 | 손실 0.11\n",
      "| 에폭 276 | 반복10/10 | 손실 0.12\n",
      "| 에폭 277 | 반복10/10 | 손실 0.12\n",
      "| 에폭 278 | 반복10/10 | 손실 0.11\n",
      "| 에폭 279 | 반복10/10 | 손실 0.11\n",
      "| 에폭 280 | 반복10/10 | 손실 0.11\n",
      "| 에폭 281 | 반복10/10 | 손실 0.11\n",
      "| 에폭 282 | 반복10/10 | 손실 0.12\n",
      "| 에폭 283 | 반복10/10 | 손실 0.11\n",
      "| 에폭 284 | 반복10/10 | 손실 0.11\n",
      "| 에폭 285 | 반복10/10 | 손실 0.11\n",
      "| 에폭 286 | 반복10/10 | 손실 0.11\n",
      "| 에폭 287 | 반복10/10 | 손실 0.11\n",
      "| 에폭 288 | 반복10/10 | 손실 0.12\n",
      "| 에폭 289 | 반복10/10 | 손실 0.11\n",
      "| 에폭 290 | 반복10/10 | 손실 0.11\n",
      "| 에폭 291 | 반복10/10 | 손실 0.11\n",
      "| 에폭 292 | 반복10/10 | 손실 0.11\n",
      "| 에폭 293 | 반복10/10 | 손실 0.11\n",
      "| 에폭 294 | 반복10/10 | 손실 0.11\n",
      "| 에폭 295 | 반복10/10 | 손실 0.12\n",
      "| 에폭 296 | 반복10/10 | 손실 0.11\n",
      "| 에폭 297 | 반복10/10 | 손실 0.12\n",
      "| 에폭 298 | 반복10/10 | 손실 0.11\n",
      "| 에폭 299 | 반복10/10 | 손실 0.11\n",
      "| 에폭 300 | 반복10/10 | 손실 0.11\n"
     ]
    },
    {
     "name": "stderr",
     "output_type": "stream",
     "text": [
      "\n"
     ]
    }
   ],
   "source": [
    "# ch01/train_custom_loop.py\n",
    "import sys\n",
    "sys.path.append('..')\n",
    "import numpy as np\n",
    "import matplotlib\n",
    "import matplotlib.pyplot as plt\n",
    "from tqdm import tqdm  # pip install tqdm\n",
    "from common.optimizer import SGD\n",
    "from common import spiral\n",
    "from two_layer_net import TwoLayerNet\n",
    "matplotlib.rc('font', family='Malgun Gothic')  \n",
    "\n",
    "# 1. 하이퍼파라미터 설정\n",
    "max_epoch = 300\n",
    "batch_size = 30\n",
    "hidden_size = 10\n",
    "learning_rate = 1.0\n",
    "\n",
    "# 2. 데이터 읽기, 모델과 옵티마이저 생성\n",
    "x, t = spiral.load_data()\n",
    "model = TwoLayerNet(input_size=2,\n",
    "                    hidden_size=hidden_size,\n",
    "                    output_size=3)\n",
    "optimizer = SGD(lr=learning_rate)\n",
    "\n",
    "# 학습에 사용하는 변수\n",
    "data_size = len(x)\n",
    "max_iters = data_size // batch_size\n",
    "total_loss = 0\n",
    "loss_count = 0\n",
    "loss_list = []\n",
    "\n",
    "for epoch in tqdm(range(max_epoch)):\n",
    "    # 3. 데이터 셔플링\n",
    "    idx = np.random.permutation(data_size)\n",
    "    x = x[idx]\n",
    "    t = t[idx]\n",
    "    \n",
    "    for iters in range(max_iters):\n",
    "        batch_x = x[iters*batch_size:(iters+1)*batch_size]\n",
    "        batch_t = t[iters*batch_size:(iters+1)*batch_size]\n",
    "        \n",
    "        # 기울기를 구해 매개변수 갱신\n",
    "        loss = model.forward(batch_x, batch_t)\n",
    "        model.backward()\n",
    "        optimizer.update(model.params, model.grads)\n",
    "        \n",
    "        total_loss += loss\n",
    "        loss_count += 1\n",
    "        \n",
    "        # 정기적으로 학습 경과 출력\n",
    "        if (iters+1) % 10 == 0:\n",
    "            avg_loss = total_loss / loss_count\n",
    "            print(f'| 에폭 {epoch+1} | 반복{iters+1}/{max_iters} | 손실 {avg_loss:.2f}')\n",
    "            loss_list.append(avg_loss)\n",
    "            total_loss, loss_count = 0, 0"
   ]
  },
  {
   "cell_type": "code",
   "execution_count": 36,
   "id": "ce811f18",
   "metadata": {},
   "outputs": [
    {
     "data": {
      "text/plain": [
       "array([5, 1, 8, 4, 9, 7, 0, 2, 6, 3])"
      ]
     },
     "execution_count": 36,
     "metadata": {},
     "output_type": "execute_result"
    }
   ],
   "source": [
    "import numpy as np\n",
    "np.random.permutation(10)#0~N-1까지 무작위로 순서 생성해서 반환"
   ]
  },
  {
   "cell_type": "markdown",
   "id": "ba3d5c71",
   "metadata": {},
   "source": [
    "## 1.4.4 Trainer클래스  "
   ]
  },
  {
   "cell_type": "code",
   "execution_count": 37,
   "id": "958bdfc5",
   "metadata": {},
   "outputs": [
    {
     "name": "stdout",
     "output_type": "stream",
     "text": [
      "| 에폭 1 |  반복 1 / 10 | 시간 0[s] | 손실 1.10\n",
      "| 에폭 2 |  반복 1 / 10 | 시간 0[s] | 손실 1.12\n",
      "| 에폭 3 |  반복 1 / 10 | 시간 0[s] | 손실 1.13\n",
      "| 에폭 4 |  반복 1 / 10 | 시간 0[s] | 손실 1.12\n",
      "| 에폭 5 |  반복 1 / 10 | 시간 0[s] | 손실 1.12\n",
      "| 에폭 6 |  반복 1 / 10 | 시간 0[s] | 손실 1.10\n",
      "| 에폭 7 |  반복 1 / 10 | 시간 0[s] | 손실 1.14\n",
      "| 에폭 8 |  반복 1 / 10 | 시간 0[s] | 손실 1.16\n",
      "| 에폭 9 |  반복 1 / 10 | 시간 0[s] | 손실 1.11\n",
      "| 에폭 10 |  반복 1 / 10 | 시간 0[s] | 손실 1.12\n",
      "| 에폭 11 |  반복 1 / 10 | 시간 0[s] | 손실 1.12\n",
      "| 에폭 12 |  반복 1 / 10 | 시간 0[s] | 손실 1.12\n",
      "| 에폭 13 |  반복 1 / 10 | 시간 0[s] | 손실 1.10\n",
      "| 에폭 14 |  반복 1 / 10 | 시간 0[s] | 손실 1.09\n",
      "| 에폭 15 |  반복 1 / 10 | 시간 0[s] | 손실 1.08\n",
      "| 에폭 16 |  반복 1 / 10 | 시간 0[s] | 손실 1.04\n",
      "| 에폭 17 |  반복 1 / 10 | 시간 0[s] | 손실 1.03\n",
      "| 에폭 18 |  반복 1 / 10 | 시간 0[s] | 손실 0.94\n",
      "| 에폭 19 |  반복 1 / 10 | 시간 0[s] | 손실 0.92\n",
      "| 에폭 20 |  반복 1 / 10 | 시간 0[s] | 손실 0.92\n",
      "| 에폭 21 |  반복 1 / 10 | 시간 0[s] | 손실 0.87\n",
      "| 에폭 22 |  반복 1 / 10 | 시간 0[s] | 손실 0.85\n",
      "| 에폭 23 |  반복 1 / 10 | 시간 0[s] | 손실 0.80\n",
      "| 에폭 24 |  반복 1 / 10 | 시간 0[s] | 손실 0.79\n",
      "| 에폭 25 |  반복 1 / 10 | 시간 0[s] | 손실 0.78\n",
      "| 에폭 26 |  반복 1 / 10 | 시간 0[s] | 손실 0.83\n",
      "| 에폭 27 |  반복 1 / 10 | 시간 0[s] | 손실 0.77\n",
      "| 에폭 28 |  반복 1 / 10 | 시간 0[s] | 손실 0.76\n",
      "| 에폭 29 |  반복 1 / 10 | 시간 0[s] | 손실 0.77\n",
      "| 에폭 30 |  반복 1 / 10 | 시간 0[s] | 손실 0.76\n",
      "| 에폭 31 |  반복 1 / 10 | 시간 0[s] | 손실 0.77\n",
      "| 에폭 32 |  반복 1 / 10 | 시간 0[s] | 손실 0.75\n",
      "| 에폭 33 |  반복 1 / 10 | 시간 0[s] | 손실 0.78\n",
      "| 에폭 34 |  반복 1 / 10 | 시간 0[s] | 손실 0.77\n",
      "| 에폭 35 |  반복 1 / 10 | 시간 0[s] | 손실 0.78\n",
      "| 에폭 36 |  반복 1 / 10 | 시간 0[s] | 손실 0.74\n",
      "| 에폭 37 |  반복 1 / 10 | 시간 0[s] | 손실 0.75\n",
      "| 에폭 38 |  반복 1 / 10 | 시간 0[s] | 손실 0.77\n",
      "| 에폭 39 |  반복 1 / 10 | 시간 0[s] | 손실 0.75\n",
      "| 에폭 40 |  반복 1 / 10 | 시간 0[s] | 손실 0.73\n",
      "| 에폭 41 |  반복 1 / 10 | 시간 0[s] | 손실 0.75\n",
      "| 에폭 42 |  반복 1 / 10 | 시간 0[s] | 손실 0.76\n",
      "| 에폭 43 |  반복 1 / 10 | 시간 0[s] | 손실 0.79\n",
      "| 에폭 44 |  반복 1 / 10 | 시간 0[s] | 손실 0.74\n",
      "| 에폭 45 |  반복 1 / 10 | 시간 0[s] | 손실 0.75\n",
      "| 에폭 46 |  반복 1 / 10 | 시간 0[s] | 손실 0.73\n",
      "| 에폭 47 |  반복 1 / 10 | 시간 0[s] | 손실 0.73\n",
      "| 에폭 48 |  반복 1 / 10 | 시간 0[s] | 손실 0.73\n",
      "| 에폭 49 |  반복 1 / 10 | 시간 0[s] | 손실 0.73\n",
      "| 에폭 50 |  반복 1 / 10 | 시간 0[s] | 손실 0.72\n",
      "| 에폭 51 |  반복 1 / 10 | 시간 0[s] | 손실 0.72\n",
      "| 에폭 52 |  반복 1 / 10 | 시간 0[s] | 손실 0.72\n",
      "| 에폭 53 |  반복 1 / 10 | 시간 0[s] | 손실 0.72\n",
      "| 에폭 54 |  반복 1 / 10 | 시간 0[s] | 손실 0.74\n",
      "| 에폭 55 |  반복 1 / 10 | 시간 0[s] | 손실 0.74\n",
      "| 에폭 56 |  반복 1 / 10 | 시간 0[s] | 손실 0.73\n",
      "| 에폭 57 |  반복 1 / 10 | 시간 0[s] | 손실 0.72\n",
      "| 에폭 58 |  반복 1 / 10 | 시간 0[s] | 손실 0.69\n",
      "| 에폭 59 |  반복 1 / 10 | 시간 0[s] | 손실 0.72\n",
      "| 에폭 60 |  반복 1 / 10 | 시간 0[s] | 손실 0.70\n",
      "| 에폭 61 |  반복 1 / 10 | 시간 0[s] | 손실 0.69\n",
      "| 에폭 62 |  반복 1 / 10 | 시간 0[s] | 손실 0.71\n",
      "| 에폭 63 |  반복 1 / 10 | 시간 0[s] | 손실 0.70\n",
      "| 에폭 64 |  반복 1 / 10 | 시간 0[s] | 손실 0.71\n",
      "| 에폭 65 |  반복 1 / 10 | 시간 0[s] | 손실 0.72\n",
      "| 에폭 66 |  반복 1 / 10 | 시간 0[s] | 손실 0.71\n",
      "| 에폭 67 |  반복 1 / 10 | 시간 0[s] | 손실 0.71\n",
      "| 에폭 68 |  반복 1 / 10 | 시간 0[s] | 손실 0.71\n",
      "| 에폭 69 |  반복 1 / 10 | 시간 0[s] | 손실 0.70\n",
      "| 에폭 70 |  반복 1 / 10 | 시간 0[s] | 손실 0.68\n",
      "| 에폭 71 |  반복 1 / 10 | 시간 0[s] | 손실 0.73\n",
      "| 에폭 72 |  반복 1 / 10 | 시간 0[s] | 손실 0.66\n",
      "| 에폭 73 |  반복 1 / 10 | 시간 0[s] | 손실 0.69\n",
      "| 에폭 74 |  반복 1 / 10 | 시간 0[s] | 손실 0.66\n",
      "| 에폭 75 |  반복 1 / 10 | 시간 0[s] | 손실 0.70\n",
      "| 에폭 76 |  반복 1 / 10 | 시간 0[s] | 손실 0.65\n",
      "| 에폭 77 |  반복 1 / 10 | 시간 0[s] | 손실 0.67\n",
      "| 에폭 78 |  반복 1 / 10 | 시간 0[s] | 손실 0.70\n",
      "| 에폭 79 |  반복 1 / 10 | 시간 0[s] | 손실 0.63\n",
      "| 에폭 80 |  반복 1 / 10 | 시간 0[s] | 손실 0.66\n",
      "| 에폭 81 |  반복 1 / 10 | 시간 0[s] | 손실 0.65\n",
      "| 에폭 82 |  반복 1 / 10 | 시간 0[s] | 손실 0.66\n",
      "| 에폭 83 |  반복 1 / 10 | 시간 0[s] | 손실 0.64\n",
      "| 에폭 84 |  반복 1 / 10 | 시간 0[s] | 손실 0.62\n",
      "| 에폭 85 |  반복 1 / 10 | 시간 0[s] | 손실 0.62\n",
      "| 에폭 86 |  반복 1 / 10 | 시간 0[s] | 손실 0.63\n",
      "| 에폭 87 |  반복 1 / 10 | 시간 0[s] | 손실 0.59\n",
      "| 에폭 88 |  반복 1 / 10 | 시간 0[s] | 손실 0.58\n",
      "| 에폭 89 |  반복 1 / 10 | 시간 0[s] | 손실 0.61\n",
      "| 에폭 90 |  반복 1 / 10 | 시간 0[s] | 손실 0.59\n",
      "| 에폭 91 |  반복 1 / 10 | 시간 0[s] | 손실 0.58\n",
      "| 에폭 92 |  반복 1 / 10 | 시간 0[s] | 손실 0.57\n",
      "| 에폭 93 |  반복 1 / 10 | 시간 0[s] | 손실 0.55\n",
      "| 에폭 94 |  반복 1 / 10 | 시간 0[s] | 손실 0.54\n",
      "| 에폭 95 |  반복 1 / 10 | 시간 0[s] | 손실 0.53\n",
      "| 에폭 96 |  반복 1 / 10 | 시간 0[s] | 손실 0.54\n",
      "| 에폭 97 |  반복 1 / 10 | 시간 0[s] | 손실 0.51\n",
      "| 에폭 98 |  반복 1 / 10 | 시간 0[s] | 손실 0.51\n",
      "| 에폭 99 |  반복 1 / 10 | 시간 0[s] | 손실 0.50\n",
      "| 에폭 100 |  반복 1 / 10 | 시간 0[s] | 손실 0.47\n",
      "| 에폭 101 |  반복 1 / 10 | 시간 0[s] | 손실 0.49\n",
      "| 에폭 102 |  반복 1 / 10 | 시간 0[s] | 손실 0.46\n",
      "| 에폭 103 |  반복 1 / 10 | 시간 0[s] | 손실 0.44\n",
      "| 에폭 104 |  반복 1 / 10 | 시간 0[s] | 손실 0.47\n",
      "| 에폭 105 |  반복 1 / 10 | 시간 0[s] | 손실 0.44\n",
      "| 에폭 106 |  반복 1 / 10 | 시간 0[s] | 손실 0.43\n",
      "| 에폭 107 |  반복 1 / 10 | 시간 0[s] | 손실 0.43\n",
      "| 에폭 108 |  반복 1 / 10 | 시간 0[s] | 손실 0.39\n",
      "| 에폭 109 |  반복 1 / 10 | 시간 0[s] | 손실 0.40\n",
      "| 에폭 110 |  반복 1 / 10 | 시간 0[s] | 손실 0.41\n",
      "| 에폭 111 |  반복 1 / 10 | 시간 0[s] | 손실 0.38\n",
      "| 에폭 112 |  반복 1 / 10 | 시간 0[s] | 손실 0.38\n",
      "| 에폭 113 |  반복 1 / 10 | 시간 0[s] | 손실 0.38\n",
      "| 에폭 114 |  반복 1 / 10 | 시간 0[s] | 손실 0.37\n",
      "| 에폭 115 |  반복 1 / 10 | 시간 0[s] | 손실 0.36\n",
      "| 에폭 116 |  반복 1 / 10 | 시간 0[s] | 손실 0.34\n",
      "| 에폭 117 |  반복 1 / 10 | 시간 0[s] | 손실 0.35\n",
      "| 에폭 118 |  반복 1 / 10 | 시간 0[s] | 손실 0.33\n",
      "| 에폭 119 |  반복 1 / 10 | 시간 0[s] | 손실 0.35\n",
      "| 에폭 120 |  반복 1 / 10 | 시간 0[s] | 손실 0.33\n",
      "| 에폭 121 |  반복 1 / 10 | 시간 0[s] | 손실 0.33\n",
      "| 에폭 122 |  반복 1 / 10 | 시간 0[s] | 손실 0.32\n",
      "| 에폭 123 |  반복 1 / 10 | 시간 0[s] | 손실 0.31\n",
      "| 에폭 124 |  반복 1 / 10 | 시간 0[s] | 손실 0.31\n",
      "| 에폭 125 |  반복 1 / 10 | 시간 0[s] | 손실 0.31\n",
      "| 에폭 126 |  반복 1 / 10 | 시간 0[s] | 손실 0.30\n",
      "| 에폭 127 |  반복 1 / 10 | 시간 0[s] | 손실 0.30\n",
      "| 에폭 128 |  반복 1 / 10 | 시간 0[s] | 손실 0.27\n",
      "| 에폭 129 |  반복 1 / 10 | 시간 0[s] | 손실 0.30\n",
      "| 에폭 130 |  반복 1 / 10 | 시간 0[s] | 손실 0.28\n",
      "| 에폭 131 |  반복 1 / 10 | 시간 0[s] | 손실 0.26\n",
      "| 에폭 132 |  반복 1 / 10 | 시간 0[s] | 손실 0.27\n",
      "| 에폭 133 |  반복 1 / 10 | 시간 0[s] | 손실 0.27\n",
      "| 에폭 134 |  반복 1 / 10 | 시간 0[s] | 손실 0.28\n",
      "| 에폭 135 |  반복 1 / 10 | 시간 0[s] | 손실 0.26\n",
      "| 에폭 136 |  반복 1 / 10 | 시간 0[s] | 손실 0.28\n",
      "| 에폭 137 |  반복 1 / 10 | 시간 0[s] | 손실 0.25\n",
      "| 에폭 138 |  반복 1 / 10 | 시간 0[s] | 손실 0.26\n",
      "| 에폭 139 |  반복 1 / 10 | 시간 0[s] | 손실 0.26\n",
      "| 에폭 140 |  반복 1 / 10 | 시간 0[s] | 손실 0.26\n",
      "| 에폭 141 |  반복 1 / 10 | 시간 0[s] | 손실 0.23\n",
      "| 에폭 142 |  반복 1 / 10 | 시간 0[s] | 손실 0.23\n",
      "| 에폭 143 |  반복 1 / 10 | 시간 0[s] | 손실 0.26\n",
      "| 에폭 144 |  반복 1 / 10 | 시간 0[s] | 손실 0.23\n",
      "| 에폭 145 |  반복 1 / 10 | 시간 0[s] | 손실 0.24\n",
      "| 에폭 146 |  반복 1 / 10 | 시간 0[s] | 손실 0.24\n",
      "| 에폭 147 |  반복 1 / 10 | 시간 0[s] | 손실 0.25\n",
      "| 에폭 148 |  반복 1 / 10 | 시간 0[s] | 손실 0.21\n",
      "| 에폭 149 |  반복 1 / 10 | 시간 0[s] | 손실 0.23\n",
      "| 에폭 150 |  반복 1 / 10 | 시간 0[s] | 손실 0.22\n",
      "| 에폭 151 |  반복 1 / 10 | 시간 0[s] | 손실 0.22\n",
      "| 에폭 152 |  반복 1 / 10 | 시간 0[s] | 손실 0.23\n",
      "| 에폭 153 |  반복 1 / 10 | 시간 0[s] | 손실 0.23\n",
      "| 에폭 154 |  반복 1 / 10 | 시간 0[s] | 손실 0.20\n",
      "| 에폭 155 |  반복 1 / 10 | 시간 0[s] | 손실 0.22\n",
      "| 에폭 156 |  반복 1 / 10 | 시간 0[s] | 손실 0.21\n",
      "| 에폭 157 |  반복 1 / 10 | 시간 0[s] | 손실 0.21\n",
      "| 에폭 158 |  반복 1 / 10 | 시간 0[s] | 손실 0.20\n",
      "| 에폭 159 |  반복 1 / 10 | 시간 0[s] | 손실 0.21\n",
      "| 에폭 160 |  반복 1 / 10 | 시간 0[s] | 손실 0.20\n",
      "| 에폭 161 |  반복 1 / 10 | 시간 0[s] | 손실 0.19\n",
      "| 에폭 162 |  반복 1 / 10 | 시간 0[s] | 손실 0.22\n",
      "| 에폭 163 |  반복 1 / 10 | 시간 0[s] | 손실 0.19\n",
      "| 에폭 164 |  반복 1 / 10 | 시간 0[s] | 손실 0.21\n",
      "| 에폭 165 |  반복 1 / 10 | 시간 0[s] | 손실 0.20\n",
      "| 에폭 166 |  반복 1 / 10 | 시간 0[s] | 손실 0.20\n",
      "| 에폭 167 |  반복 1 / 10 | 시간 0[s] | 손실 0.20\n",
      "| 에폭 168 |  반복 1 / 10 | 시간 0[s] | 손실 0.19\n",
      "| 에폭 169 |  반복 1 / 10 | 시간 0[s] | 손실 0.18\n",
      "| 에폭 170 |  반복 1 / 10 | 시간 0[s] | 손실 0.19\n",
      "| 에폭 171 |  반복 1 / 10 | 시간 0[s] | 손실 0.19\n",
      "| 에폭 172 |  반복 1 / 10 | 시간 0[s] | 손실 0.20\n",
      "| 에폭 173 |  반복 1 / 10 | 시간 0[s] | 손실 0.16\n",
      "| 에폭 174 |  반복 1 / 10 | 시간 0[s] | 손실 0.20\n",
      "| 에폭 175 |  반복 1 / 10 | 시간 0[s] | 손실 0.18\n",
      "| 에폭 176 |  반복 1 / 10 | 시간 0[s] | 손실 0.17\n",
      "| 에폭 177 |  반복 1 / 10 | 시간 0[s] | 손실 0.17\n",
      "| 에폭 178 |  반복 1 / 10 | 시간 0[s] | 손실 0.17\n",
      "| 에폭 179 |  반복 1 / 10 | 시간 0[s] | 손실 0.18\n",
      "| 에폭 180 |  반복 1 / 10 | 시간 0[s] | 손실 0.19\n",
      "| 에폭 181 |  반복 1 / 10 | 시간 0[s] | 손실 0.17\n",
      "| 에폭 182 |  반복 1 / 10 | 시간 0[s] | 손실 0.18\n",
      "| 에폭 183 |  반복 1 / 10 | 시간 0[s] | 손실 0.16\n",
      "| 에폭 184 |  반복 1 / 10 | 시간 0[s] | 손실 0.18\n",
      "| 에폭 185 |  반복 1 / 10 | 시간 0[s] | 손실 0.18\n",
      "| 에폭 186 |  반복 1 / 10 | 시간 0[s] | 손실 0.17\n",
      "| 에폭 187 |  반복 1 / 10 | 시간 0[s] | 손실 0.17\n",
      "| 에폭 188 |  반복 1 / 10 | 시간 0[s] | 손실 0.18\n",
      "| 에폭 189 |  반복 1 / 10 | 시간 0[s] | 손실 0.16\n",
      "| 에폭 190 |  반복 1 / 10 | 시간 0[s] | 손실 0.16\n",
      "| 에폭 191 |  반복 1 / 10 | 시간 0[s] | 손실 0.17\n",
      "| 에폭 192 |  반복 1 / 10 | 시간 0[s] | 손실 0.17\n",
      "| 에폭 193 |  반복 1 / 10 | 시간 0[s] | 손실 0.16\n",
      "| 에폭 194 |  반복 1 / 10 | 시간 0[s] | 손실 0.16\n",
      "| 에폭 195 |  반복 1 / 10 | 시간 0[s] | 손실 0.16\n",
      "| 에폭 196 |  반복 1 / 10 | 시간 0[s] | 손실 0.17\n",
      "| 에폭 197 |  반복 1 / 10 | 시간 0[s] | 손실 0.16\n",
      "| 에폭 198 |  반복 1 / 10 | 시간 0[s] | 손실 0.17\n",
      "| 에폭 199 |  반복 1 / 10 | 시간 0[s] | 손실 0.16\n",
      "| 에폭 200 |  반복 1 / 10 | 시간 0[s] | 손실 0.14\n",
      "| 에폭 201 |  반복 1 / 10 | 시간 0[s] | 손실 0.16\n",
      "| 에폭 202 |  반복 1 / 10 | 시간 0[s] | 손실 0.16\n",
      "| 에폭 203 |  반복 1 / 10 | 시간 0[s] | 손실 0.15\n",
      "| 에폭 204 |  반복 1 / 10 | 시간 0[s] | 손실 0.16\n",
      "| 에폭 205 |  반복 1 / 10 | 시간 0[s] | 손실 0.14\n",
      "| 에폭 206 |  반복 1 / 10 | 시간 0[s] | 손실 0.16\n",
      "| 에폭 207 |  반복 1 / 10 | 시간 0[s] | 손실 0.16\n",
      "| 에폭 208 |  반복 1 / 10 | 시간 0[s] | 손실 0.14\n",
      "| 에폭 209 |  반복 1 / 10 | 시간 0[s] | 손실 0.15\n",
      "| 에폭 210 |  반복 1 / 10 | 시간 0[s] | 손실 0.16\n",
      "| 에폭 211 |  반복 1 / 10 | 시간 0[s] | 손실 0.14\n",
      "| 에폭 212 |  반복 1 / 10 | 시간 0[s] | 손실 0.15\n",
      "| 에폭 213 |  반복 1 / 10 | 시간 0[s] | 손실 0.15\n",
      "| 에폭 214 |  반복 1 / 10 | 시간 0[s] | 손실 0.15\n",
      "| 에폭 215 |  반복 1 / 10 | 시간 0[s] | 손실 0.14\n",
      "| 에폭 216 |  반복 1 / 10 | 시간 0[s] | 손실 0.14\n",
      "| 에폭 217 |  반복 1 / 10 | 시간 0[s] | 손실 0.15\n",
      "| 에폭 218 |  반복 1 / 10 | 시간 0[s] | 손실 0.14\n",
      "| 에폭 219 |  반복 1 / 10 | 시간 0[s] | 손실 0.15\n",
      "| 에폭 220 |  반복 1 / 10 | 시간 0[s] | 손실 0.15\n",
      "| 에폭 221 |  반복 1 / 10 | 시간 0[s] | 손실 0.14\n",
      "| 에폭 222 |  반복 1 / 10 | 시간 0[s] | 손실 0.13\n",
      "| 에폭 223 |  반복 1 / 10 | 시간 0[s] | 손실 0.15\n",
      "| 에폭 224 |  반복 1 / 10 | 시간 0[s] | 손실 0.14\n",
      "| 에폭 225 |  반복 1 / 10 | 시간 0[s] | 손실 0.16\n",
      "| 에폭 226 |  반복 1 / 10 | 시간 0[s] | 손실 0.12\n",
      "| 에폭 227 |  반복 1 / 10 | 시간 0[s] | 손실 0.13\n",
      "| 에폭 228 |  반복 1 / 10 | 시간 0[s] | 손실 0.15\n",
      "| 에폭 229 |  반복 1 / 10 | 시간 0[s] | 손실 0.14\n",
      "| 에폭 230 |  반복 1 / 10 | 시간 0[s] | 손실 0.13\n",
      "| 에폭 231 |  반복 1 / 10 | 시간 0[s] | 손실 0.14\n",
      "| 에폭 232 |  반복 1 / 10 | 시간 0[s] | 손실 0.13\n",
      "| 에폭 233 |  반복 1 / 10 | 시간 0[s] | 손실 0.13\n",
      "| 에폭 234 |  반복 1 / 10 | 시간 0[s] | 손실 0.14\n",
      "| 에폭 235 |  반복 1 / 10 | 시간 0[s] | 손실 0.13\n",
      "| 에폭 236 |  반복 1 / 10 | 시간 0[s] | 손실 0.12\n",
      "| 에폭 237 |  반복 1 / 10 | 시간 0[s] | 손실 0.13\n",
      "| 에폭 238 |  반복 1 / 10 | 시간 0[s] | 손실 0.14\n",
      "| 에폭 239 |  반복 1 / 10 | 시간 0[s] | 손실 0.14\n",
      "| 에폭 240 |  반복 1 / 10 | 시간 0[s] | 손실 0.13\n",
      "| 에폭 241 |  반복 1 / 10 | 시간 0[s] | 손실 0.14\n",
      "| 에폭 242 |  반복 1 / 10 | 시간 0[s] | 손실 0.13\n",
      "| 에폭 243 |  반복 1 / 10 | 시간 0[s] | 손실 0.13\n",
      "| 에폭 244 |  반복 1 / 10 | 시간 0[s] | 손실 0.14\n",
      "| 에폭 245 |  반복 1 / 10 | 시간 0[s] | 손실 0.12\n",
      "| 에폭 246 |  반복 1 / 10 | 시간 0[s] | 손실 0.13\n",
      "| 에폭 247 |  반복 1 / 10 | 시간 0[s] | 손실 0.13\n",
      "| 에폭 248 |  반복 1 / 10 | 시간 0[s] | 손실 0.12\n",
      "| 에폭 249 |  반복 1 / 10 | 시간 0[s] | 손실 0.14\n",
      "| 에폭 250 |  반복 1 / 10 | 시간 0[s] | 손실 0.12\n",
      "| 에폭 251 |  반복 1 / 10 | 시간 0[s] | 손실 0.13\n",
      "| 에폭 252 |  반복 1 / 10 | 시간 0[s] | 손실 0.13\n",
      "| 에폭 253 |  반복 1 / 10 | 시간 0[s] | 손실 0.12\n",
      "| 에폭 254 |  반복 1 / 10 | 시간 0[s] | 손실 0.12\n",
      "| 에폭 255 |  반복 1 / 10 | 시간 0[s] | 손실 0.13\n",
      "| 에폭 256 |  반복 1 / 10 | 시간 0[s] | 손실 0.12\n",
      "| 에폭 257 |  반복 1 / 10 | 시간 0[s] | 손실 0.12\n",
      "| 에폭 258 |  반복 1 / 10 | 시간 0[s] | 손실 0.12\n",
      "| 에폭 259 |  반복 1 / 10 | 시간 0[s] | 손실 0.13\n",
      "| 에폭 260 |  반복 1 / 10 | 시간 0[s] | 손실 0.13\n",
      "| 에폭 261 |  반복 1 / 10 | 시간 0[s] | 손실 0.11\n",
      "| 에폭 262 |  반복 1 / 10 | 시간 0[s] | 손실 0.13\n",
      "| 에폭 263 |  반복 1 / 10 | 시간 0[s] | 손실 0.12\n",
      "| 에폭 264 |  반복 1 / 10 | 시간 0[s] | 손실 0.11\n",
      "| 에폭 265 |  반복 1 / 10 | 시간 0[s] | 손실 0.14\n",
      "| 에폭 266 |  반복 1 / 10 | 시간 0[s] | 손실 0.11\n",
      "| 에폭 267 |  반복 1 / 10 | 시간 0[s] | 손실 0.13\n",
      "| 에폭 268 |  반복 1 / 10 | 시간 0[s] | 손실 0.11\n",
      "| 에폭 269 |  반복 1 / 10 | 시간 0[s] | 손실 0.13\n",
      "| 에폭 270 |  반복 1 / 10 | 시간 0[s] | 손실 0.11\n",
      "| 에폭 271 |  반복 1 / 10 | 시간 0[s] | 손실 0.12\n",
      "| 에폭 272 |  반복 1 / 10 | 시간 0[s] | 손실 0.12\n",
      "| 에폭 273 |  반복 1 / 10 | 시간 0[s] | 손실 0.12\n",
      "| 에폭 274 |  반복 1 / 10 | 시간 0[s] | 손실 0.12\n",
      "| 에폭 275 |  반복 1 / 10 | 시간 0[s] | 손실 0.12\n",
      "| 에폭 276 |  반복 1 / 10 | 시간 0[s] | 손실 0.12\n",
      "| 에폭 277 |  반복 1 / 10 | 시간 0[s] | 손실 0.11\n",
      "| 에폭 278 |  반복 1 / 10 | 시간 0[s] | 손실 0.13\n",
      "| 에폭 279 |  반복 1 / 10 | 시간 0[s] | 손실 0.11\n",
      "| 에폭 280 |  반복 1 / 10 | 시간 0[s] | 손실 0.10\n",
      "| 에폭 281 |  반복 1 / 10 | 시간 0[s] | 손실 0.12\n",
      "| 에폭 282 |  반복 1 / 10 | 시간 0[s] | 손실 0.11\n",
      "| 에폭 283 |  반복 1 / 10 | 시간 0[s] | 손실 0.12\n",
      "| 에폭 284 |  반복 1 / 10 | 시간 0[s] | 손실 0.11\n",
      "| 에폭 285 |  반복 1 / 10 | 시간 0[s] | 손실 0.11\n",
      "| 에폭 286 |  반복 1 / 10 | 시간 0[s] | 손실 0.12\n",
      "| 에폭 287 |  반복 1 / 10 | 시간 0[s] | 손실 0.11\n",
      "| 에폭 288 |  반복 1 / 10 | 시간 0[s] | 손실 0.11\n",
      "| 에폭 289 |  반복 1 / 10 | 시간 0[s] | 손실 0.12\n",
      "| 에폭 290 |  반복 1 / 10 | 시간 0[s] | 손실 0.11\n",
      "| 에폭 291 |  반복 1 / 10 | 시간 0[s] | 손실 0.11\n",
      "| 에폭 292 |  반복 1 / 10 | 시간 0[s] | 손실 0.11\n",
      "| 에폭 293 |  반복 1 / 10 | 시간 0[s] | 손실 0.11\n",
      "| 에폭 294 |  반복 1 / 10 | 시간 0[s] | 손실 0.11\n",
      "| 에폭 295 |  반복 1 / 10 | 시간 0[s] | 손실 0.11\n",
      "| 에폭 296 |  반복 1 / 10 | 시간 0[s] | 손실 0.12\n",
      "| 에폭 297 |  반복 1 / 10 | 시간 0[s] | 손실 0.11\n",
      "| 에폭 298 |  반복 1 / 10 | 시간 0[s] | 손실 0.11\n",
      "| 에폭 299 |  반복 1 / 10 | 시간 0[s] | 손실 0.11\n",
      "| 에폭 300 |  반복 1 / 10 | 시간 0[s] | 손실 0.11\n"
     ]
    },
    {
     "data": {
      "image/png": "[encoded data removed]",
      "text/plain": [
       "<Figure size 432x288 with 1 Axes>"
      ]
     },
     "metadata": {
      "needs_background": "light"
     },
     "output_type": "display_data"
    }
   ],
   "source": [
    "# ch01/train.py\n",
    "%matplotlib inline\n",
    "import sys\n",
    "sys.path.append('..')\n",
    "from common.optimizer import SGD\n",
    "from common.trainer import Trainer\n",
    "from common import spiral\n",
    "\n",
    "# 하이퍼파라미터 설정\n",
    "max_epoch = 300\n",
    "batch_size = 30\n",
    "hidden_size = 10\n",
    "learning_rate = 1.0\n",
    "\n",
    "x, t = spiral.load_data()\n",
    "model = TwoLayerNet(input_size=2, hidden_size=hidden_size, output_size=3)\n",
    "optimizer = SGD(lr=learning_rate)\n",
    "\n",
    "trainer = Trainer(model, optimizer)\n",
    "trainer.fit(x, t, max_epoch, batch_size, eval_interval=10)\n",
    "trainer.plot()"
   ]
  },
  {
   "cell_type": "markdown",
   "id": "ea5f206c",
   "metadata": {},
   "source": [
    "# 1.5 계산 고속화  "
   ]
  },
  {
   "cell_type": "markdown",
   "id": "a6c5feb9",
   "metadata": {},
   "source": [
    "## 1.5.1 비트 정밀도 \n",
    "가장 일반적으로 64bit부동소수점 사용"
   ]
  },
  {
   "cell_type": "code",
   "execution_count": 38,
   "id": "82c89ecd",
   "metadata": {},
   "outputs": [
    {
     "data": {
      "text/plain": [
       "dtype('float64')"
      ]
     },
     "execution_count": 38,
     "metadata": {},
     "output_type": "execute_result"
    }
   ],
   "source": [
    "import numpy as np\n",
    "a=np.random.randn(3)\n",
    "a.dtype"
   ]
  },
  {
   "cell_type": "code",
   "execution_count": 39,
   "id": "91dd6c83",
   "metadata": {},
   "outputs": [
    {
     "data": {
      "text/plain": [
       "dtype('float32')"
      ]
     },
     "execution_count": 39,
     "metadata": {},
     "output_type": "execute_result"
    }
   ],
   "source": [
    "b=np.random.randn(3).astype(np.float32)\n",
    "b.dtype"
   ]
  },
  {
   "cell_type": "code",
   "execution_count": 40,
   "id": "5b4a30d7",
   "metadata": {},
   "outputs": [
    {
     "data": {
      "text/plain": [
       "dtype('float32')"
      ]
     },
     "execution_count": 40,
     "metadata": {},
     "output_type": "execute_result"
    }
   ],
   "source": [
    "c=np.random.randn(3).astype('f')#32bit부동소수점 사용하게 함\n",
    "c.dtype"
   ]
  },
  {
   "cell_type": "markdown",
   "id": "428ef3bd",
   "metadata": {},
   "source": [
    "학습된 가중치 저장시에는 16bit부동소수점 수로 변환해서 사용!"
   ]
  },
  {
   "cell_type": "markdown",
   "id": "b9bdb940",
   "metadata": {},
   "source": [
    "## 1.5.2 쿠파이\n",
    "CUDA:GPU전용 범용 병렬 컴퓨팅, 플랫폼 설치하고 사용  \n",
    "쿠파이:  \n",
    "- GPU를 이용해 병렬계산 수행하는 라이브러리"
   ]
  }
 ],
 "metadata": {
  "kernelspec": {
   "display_name": "Python 3 (ipykernel)",
   "language": "python",
   "name": "python3"
  },
  "language_info": {
   "codemirror_mode": {
    "name": "ipython",
    "version": 3
   },
   "file_extension": ".py",
   "mimetype": "text/x-python",
   "name": "python",
   "nbconvert_exporter": "python",
   "pygments_lexer": "ipython3",
   "version": "3.9.12"
  }
 },
 "nbformat": 4,
 "nbformat_minor": 5
}
